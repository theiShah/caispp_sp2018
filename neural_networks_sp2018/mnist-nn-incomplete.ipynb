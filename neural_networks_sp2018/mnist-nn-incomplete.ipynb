{
 "cells": [
  {
   "cell_type": "markdown",
   "metadata": {
    "nbpresent": {
     "id": "a3647bee-6c37-43ce-b70e-73b0ac767a37"
    }
   },
   "source": [
    "# Intro to Deep Learning: Neural Networks for Digit Classification, Using Keras\n",
    "---\n",
    "Today, we'll be using Keras to **train a neural network to classify handwritten digits**. To do this, we'll be taking advantage of the pre-labeled [**MNIST dataset**](https://en.wikipedia.org/wiki/MNIST_database), which contains 70,000 grayscale images of handwritten digits, along with their corresponding digit labels.\n",
    "\n",
    "Since we want our model to be able to perform well in the real world on **previously unseen data**, we'll only train it on 60,000 images, and then evaluate our model on the remaining 10,000.\n",
    "\n",
    "### Introductory Guides:\n",
    "* Workshop presentation slides: [here](https://docs.google.com/presentation/d/1RHnHtlQt9nWoIsmiDPNZ4aoWPIzRt1X3OFm304OfmbQ/edit?usp=sharing)\n",
    "* Getting started with Keras: https://keras.io/\n",
    "* Keras Sequential model introductory guide: https://keras.io/getting-started/sequential-model-guide/\n",
    "* Keras Sequential model documentation: https://keras.io/models/sequential/\n",
    "* Keras core layers: https://keras.io/layers/core/\n",
    "\n",
    "### Topic-Specific Resources/Documentation:\n",
    "* Numpy arrays: https://docs.scipy.org/doc/numpy-1.13.0/reference/arrays.ndarray.html\n",
    "* Activation Functions - ML Cheatsheet: http://ml-cheatsheet.readthedocs.io/en/latest/activation_functions.html\n",
    "* Activation Functions - Keras Documentation: https://keras.io/activations/\n",
    "* Cost/Loss Functions - ML Cheatsheet: http://ml-cheatsheet.readthedocs.io/en/latest/loss_functions.html\n",
    "* Cost/Loss Functions - Keras Documentation: https://keras.io/losses\n",
    "* Keras Optimizers (e.g. Gradient Descent): https://keras.io/optimizers"
   ]
  },
  {
   "cell_type": "markdown",
   "metadata": {},
   "source": [
    "## Loading in MNIST"
   ]
  },
  {
   "cell_type": "code",
   "execution_count": 1,
   "metadata": {
    "nbpresent": {
     "id": "aa21eec0-d9e9-4575-8cec-408d8f044b20"
    }
   },
   "outputs": [
    {
     "name": "stderr",
     "output_type": "stream",
     "text": [
      "Using TensorFlow backend.\n"
     ]
    }
   ],
   "source": [
    "# Import MNIST dataset from Keras\n",
    "\n",
    "from keras.datasets import mnist\n",
    "(train_x, train_y), (test_x, test_y) = mnist.load_data()"
   ]
  },
  {
   "cell_type": "code",
   "execution_count": 2,
   "metadata": {
    "nbpresent": {
     "id": "b04508f5-7038-4d57-a3ad-a8e1dd3e172e"
    },
    "scrolled": true
   },
   "outputs": [
    {
     "name": "stdout",
     "output_type": "stream",
     "text": [
      "Inputs shape is (60000, 28, 28)\n",
      "Input type is <class 'numpy.ndarray'>\n",
      "Labels:\n",
      "[5 0 4 ... 5 6 8]\n",
      "Labels shape is (60000,)\n",
      "Labels type is <class 'numpy.ndarray'>\n"
     ]
    }
   ],
   "source": [
    "# Data exploration\n",
    "\n",
    "print(\"Inputs shape is \" + str(train_x.shape)) # 60,000 samples, each image: 28 x 28 pixels\n",
    "print(\"Input type is \" + str(type(train_x)))\n",
    "print(\"Labels:\")\n",
    "print(train_y)\n",
    "print(\"Labels shape is \" + str(train_y.shape))\n",
    "print(\"Labels type is \" + str(type(train_y)))"
   ]
  },
  {
   "cell_type": "code",
   "execution_count": 3,
   "metadata": {
    "nbpresent": {
     "id": "4f9fadce-17a5-45d3-abeb-4c09ff57cfa7"
    }
   },
   "outputs": [],
   "source": [
    "# Matplotlib: Data visualization library\n",
    "import matplotlib.pyplot as plt"
   ]
  },
  {
   "cell_type": "code",
   "execution_count": 4,
   "metadata": {
    "nbpresent": {
     "id": "572a96a1-19cb-45e3-9763-acfc3d87dc7f"
    }
   },
   "outputs": [
    {
     "name": "stdout",
     "output_type": "stream",
     "text": [
      "5\n"
     ]
    },
    {
     "data": {
      "image/png": "[encoded data removed]",
      "text/plain": [
       "<Figure size 432x288 with 1 Axes>"
      ]
     },
     "metadata": {},
     "output_type": "display_data"
    }
   ],
   "source": [
    "# Visualize the input samples\n",
    "\n",
    "sample_num = 0 # change this number and re-run the cell to see different image samples!\n",
    "\n",
    "plt.imshow(train_x[sample_num], cmap=plt.get_cmap('gray'))\n",
    "print(train_y[sample_num])\n",
    "plt.show()"
   ]
  },
  {
   "cell_type": "markdown",
   "metadata": {},
   "source": [
    "## Pre-Processing the Data: \n",
    "* **Flatten** the 28 x 28 2D images into 784-dimensional column vectors. Each pixel will then correspond to one neuron in the 784-dimensional input layer of our neural network.\n",
    "* **Normalize** the pixel values from 0-255 to 0-1. We can do this by simply dividing each of the 0-255 greyscale values by 255. Neural networks typically like to work with smaller values, so this normalization is a pretty common first step in most deep learning tasks.\n",
    "* **Categorize** the outputs into 10-dimensional \"one-hot\" vectors. The MNIST dataset originally contains actual numerical labels for each image (e.g. 1, 2, ...), but remember that our neural network outputs 10 distinct values (one for each digit) -- not just the digit number itself. We want our training labels to match up with our neural network output. These categorized vectors contain all 0's, except a 1 in the location indicating which digit the image corresponds to."
   ]
  },
  {
   "cell_type": "code",
   "execution_count": 5,
   "metadata": {
    "nbpresent": {
     "id": "f8dd8606-82f9-4d0c-a62b-45beb371eddc"
    }
   },
   "outputs": [],
   "source": [
    "# Flatten 28*28 images to a 784 vector for each image\n",
    "\n",
    "num_pixels = train_x.shape[1] * train_x.shape[2] # 28 * 28 = 784\n",
    "train_x_flattened = train_x.reshape(train_x.shape[0], num_pixels).astype('float32') # new shape: 60,000 x 784\n",
    "test_x_flattened = test_x.reshape(test_x.shape[0], num_pixels).astype('float32') # new shape: 10,000 x 784"
   ]
  },
  {
   "cell_type": "code",
   "execution_count": 6,
   "metadata": {
    "nbpresent": {
     "id": "23cd5489-7e90-47a1-aba3-2a802d1075ac"
    }
   },
   "outputs": [],
   "source": [
    "# Normalize pixel values to between 0-1\n",
    "train_x_flattened = train_x_flattened / 255.\n",
    "test_x_flattened = test_x_flattened / 255."
   ]
  },
  {
   "cell_type": "code",
   "execution_count": 7,
   "metadata": {
    "nbpresent": {
     "id": "e11182b1-7e19-4c34-be1e-b1c71179f014"
    }
   },
   "outputs": [
    {
     "name": "stdout",
     "output_type": "stream",
     "text": [
      "[[0. 0. 0. 0. 0. 1. 0. 0. 0. 0.]\n",
      " [1. 0. 0. 0. 0. 0. 0. 0. 0. 0.]\n",
      " [0. 0. 0. 0. 1. 0. 0. 0. 0. 0.]\n",
      " [0. 1. 0. 0. 0. 0. 0. 0. 0. 0.]\n",
      " [0. 0. 0. 0. 0. 0. 0. 0. 0. 1.]]\n"
     ]
    }
   ],
   "source": [
    "import keras\n",
    "\n",
    "# Use Keras to categorize the outputs (\"one-hot\" vectors)\n",
    "train_y_categorical = keras.utils.to_categorical(train_y, num_classes=10)\n",
    "test_y_categorical = keras.utils.to_categorical(test_y, num_classes=10)\n",
    "\n",
    "# let's see result of categorizing the outputs\n",
    "print(train_y_categorical[:5]) # print out first 5 training label vectors"
   ]
  },
  {
   "cell_type": "markdown",
   "metadata": {},
   "source": [
    "## Creating our Neural Network Model\n",
    "1. **Initialize** the network, add desired layers. The settings we decide to use, e.g. number of layers, number of neurons per layer, are called **hyperparameters**, and have to be tuned by hand, rather than learned via gradient descent.\n",
    "2. **Compile** the network to get ready for training. This tells the network what cost/loss function to use (\"cost\" and \"loss\" are used interchangeably), and what type of gradient descent to use.\n",
    "3. **Fit** the network to the training images. This actually feeds the training data into the network, and uses gradient descent and backpropagation to adjust the network's weights in order to minimize the cost function."
   ]
  },
  {
   "cell_type": "code",
   "execution_count": 8,
   "metadata": {
    "nbpresent": {
     "id": "81b9fc81-511c-4d2d-be23-883d0009bc74"
    }
   },
   "outputs": [],
   "source": [
    "from keras.layers import Dense, Activation\n",
    "from keras.models import Sequential\n",
    "\n",
    "# Initialize simple neural network model\n",
    "model = Sequential()\n",
    "\n",
    "# TODO: add layers to the model\n",
    "\n",
    "# Hidden layer 1: 500 neurons, 'sigmoid' activation (to keep values between 0-1)\n",
    "    # See: 'Dense' in https://keras.io/layers/core/, https://keras.io/getting-started/sequential-model-guide/\n",
    "    # Make sure to specify the input shape!\n",
    "    # This layer should hopefully learn to detect edges, corners, etc.\n",
    "model.add(Dense(units=500, input_dim=784, activation='relu'))\n",
    "# Hidden layer 2: 250 neurons, 'sigmoid' activation\n",
    "    # This layer should hopefully learn to detect higher-level shapes\n",
    "#model.add(Dense(units=250, activation='sigmoid'))\n",
    "model.add(Dense(units=250, activation='relu'))\n",
    "# Output layer: 10 neurons (one for each class), 'sigmoid' activation\n",
    "    # This layer represents the scores that the network assigns to each possible digit, 1-10\n",
    "model.add(Dense(units=10, activation='sigmoid'))"
   ]
  },
  {
   "cell_type": "code",
   "execution_count": 9,
   "metadata": {
    "nbpresent": {
     "id": "bf842b6a-20db-42f4-9333-b1e30857e725"
    }
   },
   "outputs": [],
   "source": [
    "# Compile the model, get ready to train\n",
    "\n",
    "# TODO: compile the model\n",
    "    # Loss: Mean-Squared Error\n",
    "        # See: https://en.wikipedia.org/wiki/Mean_squared_error\n",
    "    # Optimizer: stochastic gradient descent (SGD), AKA \"drunk walk\" gradient descent\n",
    "    # Additional metrics: Accuracy\n",
    "    \n",
    "    # See: https://keras.io/losses/, https://keras.io/optimizers/, \\\n",
    "        # 'Compilation' in https://keras.io/getting-started/sequential-model-guide/\n",
    "model.compile(loss='mean_squared_error', optimizer='sgd', metrics=['accuracy'])"
   ]
  },
  {
   "cell_type": "code",
   "execution_count": 10,
   "metadata": {},
   "outputs": [
    {
     "name": "stdout",
     "output_type": "stream",
     "text": [
      "_________________________________________________________________\n",
      "Layer (type)                 Output Shape              Param #   \n",
      "=================================================================\n",
      "dense_1 (Dense)              (None, 500)               392500    \n",
      "_________________________________________________________________\n",
      "dense_2 (Dense)              (None, 250)               125250    \n",
      "_________________________________________________________________\n",
      "dense_3 (Dense)              (None, 10)                2510      \n",
      "=================================================================\n",
      "Total params: 520,260\n",
      "Trainable params: 520,260\n",
      "Non-trainable params: 0\n",
      "_________________________________________________________________\n"
     ]
    }
   ],
   "source": [
    "# Print model summary\n",
    "model.summary()"
   ]
  },
  {
   "cell_type": "code",
   "execution_count": null,
   "metadata": {
    "nbpresent": {
     "id": "2fbdd2f4-e1eb-4bd5-aef4-5869948e4b89"
    }
   },
   "outputs": [
    {
     "name": "stdout",
     "output_type": "stream",
     "text": [
      "Epoch 1/10\n",
      "60000/60000 [==============================] - 48s 796us/step - loss: 0.0867 - acc: 0.4428\n",
      "Epoch 2/10\n",
      "60000/60000 [==============================] - 46s 763us/step - loss: 0.0555 - acc: 0.7296\n",
      "Epoch 3/10\n",
      "60000/60000 [==============================] - 47s 782us/step - loss: 0.0395 - acc: 0.8311\n",
      "Epoch 4/10\n",
      "60000/60000 [==============================] - 42s 706us/step - loss: 0.0318 - acc: 0.8592\n",
      "Epoch 5/10\n",
      "60000/60000 [==============================] - 41s 689us/step - loss: 0.0275 - acc: 0.8735\n",
      "Epoch 6/10\n",
      "60000/60000 [==============================] - 43s 721us/step - loss: 0.0247 - acc: 0.8838\n",
      "Epoch 7/10\n",
      "60000/60000 [==============================] - 27s 456us/step - loss: 0.0227 - acc: 0.8900\n",
      "Epoch 8/10\n",
      "60000/60000 [==============================] - 28s 463us/step - loss: 0.0212 - acc: 0.8948\n",
      "Epoch 9/10\n",
      "31440/60000 [==============>...............] - ETA: 132:05:44 - loss: 0.0202 - acc: 0.8986"
     ]
    }
   ],
   "source": [
    "# Fit the model to the training data\n",
    "\n",
    "# TODO: train the model\n",
    "    # Number of epochs: 10 (i.e. how many times to loop over the training data/how long we should train our network)\n",
    "    # Batch size: 16 (how big our \"drunk walk\" samples should be)\n",
    "    # See: 'fit()' in https://keras.io/models/sequential/\n",
    "    # Pass in the FLATTENED train_x as input, and the CATEGORICAL train_y as the labels\n",
    "model.fit(train_x_flattened, train_y_categorical, epochs=10, batch_size=16)"
   ]
  },
  {
   "cell_type": "markdown",
   "metadata": {},
   "source": [
    "## Evaluating our Neural Network"
   ]
  },
  {
   "cell_type": "code",
   "execution_count": null,
   "metadata": {
    "nbpresent": {
     "id": "0864543a-2392-4ae5-bbdd-375e934184f4"
    }
   },
   "outputs": [],
   "source": [
    "# Evaluate trained model on test data\n",
    "\n",
    "# Returns final test loss & test accuracy\n",
    "    # See: 'evaluate' in https://keras.io/models/sequential/\n",
    "loss_and_metrics = model.evaluate(test_x_flattened, test_y_categorical, batch_size=128)\n",
    "final_cost = loss_and_metrics[0]\n",
    "final_accuracy = loss_and_metrics[1]\n",
    "\n",
    "print()\n",
    "print(\"Final test cost: \", final_cost)\n",
    "print(\"Final test accuracy: \", final_accuracy)"
   ]
  },
  {
   "cell_type": "markdown",
   "metadata": {},
   "source": [
    "**Final Sanity Check:** Make sure the our neural network's predictions match up with the actual images"
   ]
  },
  {
   "cell_type": "code",
   "execution_count": null,
   "metadata": {
    "nbpresent": {
     "id": "3cdfe0ff-f08a-4ded-af33-c091211b22a7"
    }
   },
   "outputs": [],
   "source": [
    "import numpy as np\n",
    "\n",
    "sample_num = 0 # which test sample to look at. TODO: Play around with this number to see how \\\n",
    "    # our neural network performs on different test images\n",
    "\n",
    "# Predicted class\n",
    "test_sample = np.expand_dims(test_x_flattened[sample_num], axis=0) # pick out a one-sample \"batch\" to feed into model\n",
    "predicted_scores = model.predict(test_sample) # outputted probabilities vector\n",
    "print(\"Output vector: \", predicted_scores[0]) # print predicted scores\n",
    "\n",
    "predicted_class = np.argmax(predicted_scores) # pick the class with highest probability --> final prediction\n",
    "print(\"Predicted digit: \", predicted_class) # print predicted classification\n",
    "\n",
    "# Show actual input image\n",
    "plt.imshow(test_x[sample_num], cmap=plt.get_cmap('gray'))\n",
    "plt.show()"
   ]
  },
  {
   "cell_type": "markdown",
   "metadata": {
    "collapsed": true
   },
   "source": [
    "## Congrats! You just did deep learning!\n",
    "If you have extra time, feel free to play around with the hyperparameters (number of neurons per layer, number of epochs, batch size, etc.) to see if you can improve the network's final accuracy. Try to get at least 90%.\n",
    "\n",
    "## Next Steps:\n",
    "* Convolutional Neural Networks (CNNs): [Introductory YouTube video](https://www.youtube.com/watch?v=FmpDIaiMIeA)\n",
    "* Keras MNIST CNN [example](https://github.com/keras-team/keras/blob/master/examples/mnist_cnn.py)\n",
    "* Micheal Nielson: [Neural Networks and Deep Learning](http://neuralnetworksanddeeplearning.com/)\n",
    "* CAIS++ Deep Learning [Curriculum](http://caisplusplus.usc.edu/curriculum.html)\n",
    "* Stanford's [CS 231n](http://cs231n.stanford.edu/): Convolutional Neural Networks for Visual Recognition"
   ]
  },
  {
   "cell_type": "code",
   "execution_count": null,
   "metadata": {},
   "outputs": [],
   "source": []
  }
 ],
 "metadata": {
  "kernelspec": {
   "display_name": "Python [conda env:caispp]",
   "language": "python",
   "name": "conda-env-caispp-py"
  },
  "language_info": {
   "codemirror_mode": {
    "name": "ipython",
    "version": 3
   },
   "file_extension": ".py",
   "mimetype": "text/x-python",
   "name": "python",
   "nbconvert_exporter": "python",
   "pygments_lexer": "ipython3",
   "version": "3.5.5"
  }
 },
 "nbformat": 4,
 "nbformat_minor": 2
}
