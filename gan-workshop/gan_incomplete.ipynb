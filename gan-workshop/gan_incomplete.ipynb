{
 "cells": [
  {
   "cell_type": "code",
   "execution_count": 1,
   "metadata": {},
   "outputs": [
    {
     "name": "stderr",
     "output_type": "stream",
     "text": [
      "Using TensorFlow backend.\n"
     ]
    }
   ],
   "source": [
    "# All the necesssary imports.\n",
    "from keras.models import Sequential\n",
    "from keras.layers import Dense\n",
    "from keras.layers.core import Activation, Dropout\n",
    "from keras.layers import LeakyReLU\n",
    "from keras import initializers\n",
    "from keras.datasets import mnist\n",
    "from keras.optimizers import Adam, RMSprop, SGD\n",
    "import numpy as np\n",
    "import matplotlib.pyplot as plt"
   ]
  },
  {
   "cell_type": "code",
   "execution_count": 2,
   "metadata": {},
   "outputs": [],
   "source": [
    "# Load in the data.\n",
    "(x_train, y_train), (x_test, y_test) = mnist.load_data()\n",
    "# Normalize to [-1, 1] (easier to work with)\n",
    "x_train = (x_train.astype(np.float32) - 127.5) / 127.5\n",
    "\n",
    "# For the sake of time don't work with the entire dataset.\n",
    "x_train = x_train[:10000]\n",
    "y_train = x_train[:10000]\n",
    "\n",
    "# Flatten the data.\n",
    "x_train = x_train.reshape((-1, 784))\n",
    "x_test = x_test.reshape((-1, 784))"
   ]
  },
  {
   "cell_type": "code",
   "execution_count": 3,
   "metadata": {},
   "outputs": [
    {
     "data": {
      "image/png": "[encoded data removed]",
      "text/plain": [
       "<Figure size 432x288 with 1 Axes>"
      ]
     },
     "metadata": {},
     "output_type": "display_data"
    }
   ],
   "source": [
    "# Plot out a sample image (reshaped to 28 x 28)\n",
    "plt.imshow(x_train[0].reshape(28, 28), cmap=plt.get_cmap('gray'))\n",
    "plt.show()"
   ]
  },
  {
   "cell_type": "code",
   "execution_count": 49,
   "metadata": {},
   "outputs": [],
   "source": [
    "# How many noise dimensions our generator should take in\n",
    "NOISE_DIM = 100 # Feel free to tweak this and see what changes\n",
    "\n",
    "# Define the generator.\n",
    "# The generator should have the following layers.\n",
    "# Fully connected from # noise dimensions to 256\n",
    "# LeakyReLU (alpha = 0.2) (what is leaky relu? https://cdn-images-1.medium.com/max/1600/1*A_Bzn0CjUgOXtPCJKnKLqA.jpeg)\n",
    "# Fully connected from 256 to 512\n",
    "# LeakyReLU (alpha = 0.2)\n",
    "# Fully connected from 512 to 1024\n",
    "# LeakyReLU (alpha = 0.2)\n",
    "# Fully connected from 1024 to 784 (28*28)\n",
    "# tanh (To normalize our output from -1 to 1)\n",
    "\n",
    "def generator():\n",
    "    ###################################\n",
    "    #TODO: Implement\n",
    "    model = Sequential()\n",
    "    \n",
    "    # How to add leaky relu\n",
    "    #model.add(LeakyReLU())\n",
    "    # (We'll give you this first layer. Keep the initializer as is -- it works better than the default)\n",
    "    # (You can also keep initializers default for the rest of the layers)\n",
    "    model.add(Dense(256, input_dim=NOISE_DIM, kernel_initializer=initializers.RandomNormal(stddev=0.02)))\n",
    "   \n",
    "    # Add the rest of the layers\n",
    "    model.add(LeakyReLU(alpha = 0.2))\n",
    "    model.add(Dense(512, input_dim=256))\n",
    "    model.add(LeakyReLU(alpha=0.2))\n",
    "    model.add(Dense(1024, input_dim=512))\n",
    "    model.add(LeakyReLU(alpha=0.2))\n",
    "    model.add(Dense(784, input_dim=1024))\n",
    "    \n",
    "    return model\n",
    "    ###################################"
   ]
  },
  {
   "cell_type": "code",
   "execution_count": 50,
   "metadata": {},
   "outputs": [],
   "source": [
    "# Define the discriminator here.\n",
    "# Should have the following layers\n",
    "# Fully connected from 784 (28*28) to 1024\n",
    "# LeakyReLU (alpha = 0.2)\n",
    "# Dropout with p = 0.3\n",
    "# Fully connected from 1024 to 512\n",
    "# LeakyReLU (alpha = 0.2)\n",
    "# Dropout with p = 0.3\n",
    "# Fully connected from 512 to 256\n",
    "# LeakyReLU (alpha = 0.2)\n",
    "# Dropout with p = 0.3\n",
    "# Fully connected from 256 to 1\n",
    "# sigmoid (to get our probability)\n",
    "\n",
    "def discriminator():\n",
    "    model = Sequential()\n",
    "    # (We'll give you this first layer. Keep the initializer as is -- it works better than the default)\n",
    "    model.add(Dense(1024, input_dim=784, kernel_initializer=initializers.RandomNormal(stddev=0.02)))\n",
    "    \n",
    "    # Add the rest of the layers\n",
    "    model.add(LeakyReLU(alpha=0.2))\n",
    "    model.add(Dropout(0.3))\n",
    "    model.add(Dense(512, input_dim=1024))\n",
    "    model.add(LeakyReLU(alpha=0.2))\n",
    "    model.add(Dropout(0.3))\n",
    "    model.add(Dense(256, input_dim=512))\n",
    "    model.add(LeakyReLU(alpha=0.2))\n",
    "    model.add(Dropout(0.3))\n",
    "    model.add(Dense(1, input_dim=256))\n",
    "    model.add(Activation('sigmoid'))\n",
    "    \n",
    "    return model\n",
    "    ###################################"
   ]
  },
  {
   "cell_type": "code",
   "execution_count": 51,
   "metadata": {},
   "outputs": [],
   "source": [
    "# Feed the generated image into the discriminator. \n",
    "# We’ll use this to train our generator end-to-end later on, \n",
    "    # while leaving the discriminator weights untouched \n",
    "# Hint: we can add existing Sequential() models to new models, just like we can with any other layer.\n",
    "    # The parameters are then \"passed by reference,\" so that they use the same internal weights.\n",
    "\n",
    "# Remember that we are not updating our discriminator in this step. \n",
    "    # (We'll train the discriminator separately.)\n",
    "# Please refer to \n",
    "    # https://keras.io/getting-started/faq/#how-can-i-freeze-keras-layers\n",
    "    # on how to \"freeze\" or set layers to be untrainable in keras.\n",
    "# We can call this \"freeze\" operation on an entire model.\n",
    "\n",
    "def combine(generator, discriminator):\n",
    "    ###################################\n",
    "    # TODO: Implement\n",
    "    #for layer in discriminator.layers:\n",
    "     #   layer.trainable=False\n",
    "    discriminator.trainable=False\n",
    "    model = Sequential()\n",
    "    model.add(generator)\n",
    "    model.add(discriminator)\n",
    "    return model\n",
    "    ###################################"
   ]
  },
  {
   "cell_type": "code",
   "execution_count": 74,
   "metadata": {},
   "outputs": [],
   "source": [
    "# Compile the discriminator, generator, and full GAN. \n",
    "\n",
    "# Use this optimizer for each of the models\n",
    "opt = Adam(lr=.0002, beta_1=0.5)\n",
    "\n",
    "#############################################\n",
    "# TODO: Compile generator and discriminator\n",
    "g = generator()\n",
    "# generator.compile(optimizer=opt, loss='categorical_crossentropy')\n",
    "# Discriminator\n",
    "# d = None\n",
    "d = discriminator()\n",
    "d.compile(optimizer=opt, loss='categorical_crossentropy')\n",
    "# Full gan\n",
    "# gd = None\n",
    "gan = combine(g, d)\n",
    "gan.compile(optimizer=opt, loss='categorical_crossentropy')\n",
    "#############################################"
   ]
  },
  {
   "cell_type": "code",
   "execution_count": 75,
   "metadata": {},
   "outputs": [],
   "source": [
    "# Helper function to display sample from the network\n",
    "def disp_sample(g):\n",
    "    noise = np.random.uniform(-1, 1, size=(batch_size, NOISE_DIM))\n",
    "    generated_images = g.predict(noise, verbose=0)\n",
    "    show_im = generated_images[0]\n",
    "    show_im = (show_im + 1) / 2.0\n",
    "    show_im = show_im.reshape(28, 28)\n",
    "    plt.imshow(show_im, cmap='gray')\n",
    "    plt.show()"
   ]
  },
  {
   "cell_type": "code",
   "execution_count": 78,
   "metadata": {},
   "outputs": [
    {
     "name": "stdout",
     "output_type": "stream",
     "text": [
      "Epoch #0\n"
     ]
    },
    {
     "data": {
      "image/png": "[encoded data removed]",
      "text/plain": [
       "<Figure size 432x288 with 1 Axes>"
      ]
     },
     "metadata": {},
     "output_type": "display_data"
    },
    {
     "ename": "ValueError",
     "evalue": "You are passing a target array of shape (256, 1) while using as loss `categorical_crossentropy`. `categorical_crossentropy` expects targets to be binary matrices (1s and 0s) of shape (samples, classes). If your targets are integer classes, you can convert them to the expected format via:\n```\nfrom keras.utils import to_categorical\ny_binary = to_categorical(y_int)\n```\n\nAlternatively, you can use the loss function `sparse_categorical_crossentropy` instead, which does expect integer targets.",
     "output_type": "error",
     "traceback": [
      "\u001b[0;31m---------------------------------------------------------------------------\u001b[0m",
      "\u001b[0;31mValueError\u001b[0m                                Traceback (most recent call last)",
      "\u001b[0;32m<ipython-input-78-4a7574c15170>\u001b[0m in \u001b[0;36m<module>\u001b[0;34m()\u001b[0m\n\u001b[1;32m     38\u001b[0m             \u001b[0;31m# Update d.trainable as necessary\u001b[0m\u001b[0;34m\u001b[0m\u001b[0;34m\u001b[0m\u001b[0m\n\u001b[1;32m     39\u001b[0m         \u001b[0md\u001b[0m\u001b[0;34m.\u001b[0m\u001b[0mtrainable\u001b[0m \u001b[0;34m=\u001b[0m \u001b[0;32mTrue\u001b[0m\u001b[0;34m\u001b[0m\u001b[0m\n\u001b[0;32m---> 40\u001b[0;31m         \u001b[0md_loss\u001b[0m \u001b[0;34m=\u001b[0m \u001b[0md\u001b[0m\u001b[0;34m.\u001b[0m\u001b[0mtrain_on_batch\u001b[0m\u001b[0;34m(\u001b[0m\u001b[0mX\u001b[0m\u001b[0;34m,\u001b[0m \u001b[0my\u001b[0m\u001b[0;34m)\u001b[0m\u001b[0;34m\u001b[0m\u001b[0m\n\u001b[0m\u001b[1;32m     41\u001b[0m         \u001b[0;31m# Now, set d.trainable to False again to get ready for the end-to-end generator training\u001b[0m\u001b[0;34m\u001b[0m\u001b[0;34m\u001b[0m\u001b[0m\n\u001b[1;32m     42\u001b[0m             \u001b[0;31m# (We want to hold the discriminator constant while we're training the generator. See below.)\u001b[0m\u001b[0;34m\u001b[0m\u001b[0;34m\u001b[0m\u001b[0m\n",
      "\u001b[0;32m~/anaconda3/envs/caispp/lib/python3.5/site-packages/keras/models.py\u001b[0m in \u001b[0;36mtrain_on_batch\u001b[0;34m(self, x, y, class_weight, sample_weight)\u001b[0m\n\u001b[1;32m   1065\u001b[0m         return self.model.train_on_batch(x, y,\n\u001b[1;32m   1066\u001b[0m                                          \u001b[0msample_weight\u001b[0m\u001b[0;34m=\u001b[0m\u001b[0msample_weight\u001b[0m\u001b[0;34m,\u001b[0m\u001b[0;34m\u001b[0m\u001b[0m\n\u001b[0;32m-> 1067\u001b[0;31m                                          class_weight=class_weight)\n\u001b[0m\u001b[1;32m   1068\u001b[0m \u001b[0;34m\u001b[0m\u001b[0m\n\u001b[1;32m   1069\u001b[0m     def test_on_batch(self, x, y,\n",
      "\u001b[0;32m~/anaconda3/envs/caispp/lib/python3.5/site-packages/keras/engine/training.py\u001b[0m in \u001b[0;36mtrain_on_batch\u001b[0;34m(self, x, y, sample_weight, class_weight)\u001b[0m\n\u001b[1;32m   1875\u001b[0m             \u001b[0mx\u001b[0m\u001b[0;34m,\u001b[0m \u001b[0my\u001b[0m\u001b[0;34m,\u001b[0m\u001b[0;34m\u001b[0m\u001b[0m\n\u001b[1;32m   1876\u001b[0m             \u001b[0msample_weight\u001b[0m\u001b[0;34m=\u001b[0m\u001b[0msample_weight\u001b[0m\u001b[0;34m,\u001b[0m\u001b[0;34m\u001b[0m\u001b[0m\n\u001b[0;32m-> 1877\u001b[0;31m             class_weight=class_weight)\n\u001b[0m\u001b[1;32m   1878\u001b[0m         \u001b[0;32mif\u001b[0m \u001b[0mself\u001b[0m\u001b[0;34m.\u001b[0m\u001b[0muses_learning_phase\u001b[0m \u001b[0;32mand\u001b[0m \u001b[0;32mnot\u001b[0m \u001b[0misinstance\u001b[0m\u001b[0;34m(\u001b[0m\u001b[0mK\u001b[0m\u001b[0;34m.\u001b[0m\u001b[0mlearning_phase\u001b[0m\u001b[0;34m(\u001b[0m\u001b[0;34m)\u001b[0m\u001b[0;34m,\u001b[0m \u001b[0mint\u001b[0m\u001b[0;34m)\u001b[0m\u001b[0;34m:\u001b[0m\u001b[0;34m\u001b[0m\u001b[0m\n\u001b[1;32m   1879\u001b[0m             \u001b[0mins\u001b[0m \u001b[0;34m=\u001b[0m \u001b[0mx\u001b[0m \u001b[0;34m+\u001b[0m \u001b[0my\u001b[0m \u001b[0;34m+\u001b[0m \u001b[0msample_weights\u001b[0m \u001b[0;34m+\u001b[0m \u001b[0;34m[\u001b[0m\u001b[0;36m1.\u001b[0m\u001b[0;34m]\u001b[0m\u001b[0;34m\u001b[0m\u001b[0m\n",
      "\u001b[0;32m~/anaconda3/envs/caispp/lib/python3.5/site-packages/keras/engine/training.py\u001b[0m in \u001b[0;36m_standardize_user_data\u001b[0;34m(self, x, y, sample_weight, class_weight, check_array_lengths, batch_size)\u001b[0m\n\u001b[1;32m   1491\u001b[0m         _check_loss_and_target_compatibility(y,\n\u001b[1;32m   1492\u001b[0m                                              \u001b[0mself\u001b[0m\u001b[0;34m.\u001b[0m\u001b[0m_feed_loss_fns\u001b[0m\u001b[0;34m,\u001b[0m\u001b[0;34m\u001b[0m\u001b[0m\n\u001b[0;32m-> 1493\u001b[0;31m                                              self._feed_output_shapes)\n\u001b[0m\u001b[1;32m   1494\u001b[0m         \u001b[0;32mif\u001b[0m \u001b[0mself\u001b[0m\u001b[0;34m.\u001b[0m\u001b[0mstateful\u001b[0m \u001b[0;32mand\u001b[0m \u001b[0mbatch_size\u001b[0m\u001b[0;34m:\u001b[0m\u001b[0;34m\u001b[0m\u001b[0m\n\u001b[1;32m   1495\u001b[0m             \u001b[0;32mif\u001b[0m \u001b[0mx\u001b[0m\u001b[0;34m[\u001b[0m\u001b[0;36m0\u001b[0m\u001b[0;34m]\u001b[0m\u001b[0;34m.\u001b[0m\u001b[0mshape\u001b[0m\u001b[0;34m[\u001b[0m\u001b[0;36m0\u001b[0m\u001b[0;34m]\u001b[0m \u001b[0;34m%\u001b[0m \u001b[0mbatch_size\u001b[0m \u001b[0;34m!=\u001b[0m \u001b[0;36m0\u001b[0m\u001b[0;34m:\u001b[0m\u001b[0;34m\u001b[0m\u001b[0m\n",
      "\u001b[0;32m~/anaconda3/envs/caispp/lib/python3.5/site-packages/keras/engine/training.py\u001b[0m in \u001b[0;36m_check_loss_and_target_compatibility\u001b[0;34m(targets, loss_fns, output_shapes)\u001b[0m\n\u001b[1;32m    254\u001b[0m                 raise ValueError(\n\u001b[1;32m    255\u001b[0m                     \u001b[0;34m'You are passing a target array of shape '\u001b[0m \u001b[0;34m+\u001b[0m \u001b[0mstr\u001b[0m\u001b[0;34m(\u001b[0m\u001b[0my\u001b[0m\u001b[0;34m.\u001b[0m\u001b[0mshape\u001b[0m\u001b[0;34m)\u001b[0m \u001b[0;34m+\u001b[0m\u001b[0;34m\u001b[0m\u001b[0m\n\u001b[0;32m--> 256\u001b[0;31m                     \u001b[0;34m' while using as loss `categorical_crossentropy`. '\u001b[0m\u001b[0;34m\u001b[0m\u001b[0m\n\u001b[0m\u001b[1;32m    257\u001b[0m                     \u001b[0;34m'`categorical_crossentropy` expects '\u001b[0m\u001b[0;34m\u001b[0m\u001b[0m\n\u001b[1;32m    258\u001b[0m                     \u001b[0;34m'targets to be binary matrices (1s and 0s) '\u001b[0m\u001b[0;34m\u001b[0m\u001b[0m\n",
      "\u001b[0;31mValueError\u001b[0m: You are passing a target array of shape (256, 1) while using as loss `categorical_crossentropy`. `categorical_crossentropy` expects targets to be binary matrices (1s and 0s) of shape (samples, classes). If your targets are integer classes, you can convert them to the expected format via:\n```\nfrom keras.utils import to_categorical\ny_binary = to_categorical(y_int)\n```\n\nAlternatively, you can use the loss function `sparse_categorical_crossentropy` instead, which does expect integer targets."
     ]
    }
   ],
   "source": [
    "# Keep this. \n",
    "batch_size = 128\n",
    "\n",
    "for epoch in range(100):\n",
    "    print('Epoch #%d' % epoch)\n",
    "    \n",
    "    # Generate an image and display it.\n",
    "    disp_sample(g)\n",
    "    \n",
    "    num_batches = int(x_train.shape[0] / batch_size)\n",
    "    all_g_loss = []\n",
    "    all_d_loss = []\n",
    "    for i in range(num_batches):\n",
    "        #######################################################\n",
    "        #TODO: Complete a training iteration\n",
    "        # Generate noise.\n",
    "        noise = np.random.uniform(-1, 1, size=(batch_size, NOISE_DIM))\n",
    "        \n",
    "        # Generate images from the noise using the generator.\n",
    "            # See 'predict()': https://keras.io/models/sequential/\n",
    "        generated_images = _generator.predict(noise)\n",
    "        \n",
    "        # Grab the image batch for this iteration. \n",
    "        real_images = x_train[i * batch_size: (i+1) * batch_size]\n",
    "        \n",
    "        ### Train the discriminator using the generated images and the real images ###\n",
    "        \n",
    "        # Contains the real and fake images. (Concatenate!)\n",
    "            # https://docs.scipy.org/doc/numpy-1.13.0/reference/generated/numpy.concatenate.html\n",
    "        X = np.concatenate((generated_images, real_images))\n",
    "        \n",
    "        # Labels if the sample is real (1) or not real (0). \n",
    "            # Numpy 'ones' function: https://docs.scipy.org/doc/numpy-1.13.0/reference/generated/numpy.ones.html\n",
    "            # 'zeros': https://docs.scipy.org/doc/numpy-1.13.0/reference/generated/numpy.zeros.html\n",
    "        y = np.ones((batch_size * 2))\n",
    "        \n",
    "        # Remember that for this line, the discriminator has to have d.trainable = True!\n",
    "            # Update d.trainable as necessary\n",
    "        d.trainable = True\n",
    "        d_loss = d.train_on_batch(X, y)\n",
    "        # Now, set d.trainable to False again to get ready for the end-to-end generator training\n",
    "            # (We want to hold the discriminator constant while we're training the generator. See below.)\n",
    "        d.trainable = False\n",
    "        # Generate more noise to feed into the full gan network to train the generative portion. \n",
    "        noise = noise = np.random.uniform(-1, 1, size=(batch_size, NOISE_DIM))\n",
    "\n",
    "        \n",
    "        # Get the g_loss (fill in the ... part between the parantheses)\n",
    "            # Hint: we want the final output to be 1 (indicating that the discriminator was fooled),\n",
    "            # So the labels should be all 1's. \n",
    "            # Then, since the discriminator weights are fixed,\n",
    "            # the generator weights will have to adjust so that the final outputs will be closer to 1 \n",
    "            # (i.e. are are producing more realistic images).\n",
    "        g_loss = dg.train_on_batch(...)\n",
    "        \n",
    "        # For getting the averages of each epoch\n",
    "        all_d_loss.append(d_loss)\n",
    "        all_g_loss.append(g_loss)\n",
    "        \n",
    "        #######################################################\n",
    "    print('%i D: %.4f, G: %.4f' % (epoch, np.mean(all_d_loss), np.mean(all_g_loss)))\n",
    "\n",
    "#########################################################################################\n",
    "# Why is my generative loss oscillating???   \n",
    "# Don't worry this is normal as the generator is oscillating between possible solutions\n",
    "#########################################################################################\n",
    "        "
   ]
  },
  {
   "cell_type": "code",
   "execution_count": null,
   "metadata": {},
   "outputs": [],
   "source": []
  }
 ],
 "metadata": {
  "anaconda-cloud": {},
  "kernelspec": {
   "display_name": "Python [default]",
   "language": "python",
   "name": "python3"
  },
  "language_info": {
   "codemirror_mode": {
    "name": "ipython",
    "version": 3
   },
   "file_extension": ".py",
   "mimetype": "text/x-python",
   "name": "python",
   "nbconvert_exporter": "python",
   "pygments_lexer": "ipython3",
   "version": "3.5.5"
  }
 },
 "nbformat": 4,
 "nbformat_minor": 2
}
